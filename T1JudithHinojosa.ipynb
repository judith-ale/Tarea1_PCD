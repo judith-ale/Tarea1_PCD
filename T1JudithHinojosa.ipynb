{
 "cells": [
  {
   "cell_type": "markdown",
   "metadata": {},
   "source": [
    "# Tarea 1: Resumen MLOps\n",
    "#### Judith Alejandra Hinojosa Rábago | 737456 | ICD"
   ]
  },
  {
   "cell_type": "markdown",
   "metadata": {},
   "source": [
    "### ¿Qué es MLOps?\n",
    "\n",
    "MLOps (Machine Learning Operations) es una secuencia de pasos para pasar un modelo de aprendizaje automático a un entorno de producción. Estos procesos garantizan escalabilidad, además aumenta la velocidad y confianza para sacar nuevas soluciones de aprendizaje automático."
   ]
  },
  {
   "cell_type": "markdown",
   "metadata": {},
   "source": [
    "### ¿Por qué es necesario?\n",
    "\n",
    "- Datos (ej. con *DVC*):\n",
    "    - Para tener control sobre las versiones de datos con los que se trabaja.\n",
    "    - Y mantener los datos con los que se entrenan los modelos actualizados.\n",
    "- Experimentos (ej. con *mlflow*):\n",
    "    - Para tener control de los parámetros que se uticen en los modelos.\n",
    "    - Para tener control de las características que el modelo va a utilizar.\n",
    "    - Para tener control de los modelos utilizados.\n",
    "- Para tener un pipeline que asegure la construcción, prueba y despliegue del modelo de forma rápida.\n",
    "- Para monitorear el modelo, para darle matenimiento y actualizarlo.\n",
    "\n",
    "Todo esto reduce los cuellos de botella y acorta los ciclos de producción y mejora con cada iteración.\n"
   ]
  },
  {
   "cell_type": "markdown",
   "metadata": {},
   "source": [
    "### Etapas\n",
    "\n",
    "![ML Project Lifecycle](https://miro.medium.com/v2/resize:fit:1100/format:webp/1*3KN_-nb0DXEEvE0jOLMV3w.png \"ML Project Lifecycle (Image by Yashaswi Nayak)\")\n",
    "\n",
    "- **Alcance:** se define si el proyecto requeire de una solución de aprendizaje automático, definir los requerimientos y asegurarse que haya datos relevantes no sesgados.\n",
    "- **Ingeniería de características:** recolección, limpieza, formato, etiquetado y organización de los datos.\n",
    "- **Modelado:** se crea un modelo que se entrena con los datos procesados. Se realiza el análisis de errores y se registra el desempeño del modelo.\n",
    "- **Despliegue:** se empaqueta el modelo y se pone en funcionammiento para producción.\n",
    "- **Monitoreo:** se monitorea la infraestructura para mantener actualizado el modelo de dos formas, para mantenerlo en un buen ambiente (tenga suficiente capacidad de procesamiento y almacenamiento, una respuesta rápida, etcétera) y para asegurar un buen desempeño en el escenario real."
   ]
  },
  {
   "cell_type": "markdown",
   "metadata": {},
   "source": [
    "### ¿Qué considerar antes de empezar con MLOps?\n",
    "\n",
    "- Tener indicadores clave de rendimiento claros y medibles.\n",
    "- Definir quién está supervisando que los modelos proporcionen información de calidad. Además del cómo y cuánto se debe entrenar los modelos de nuevo.\n",
    "- Tener un plan integral para garantizar el cumplimiento normativo."
   ]
  }
 ],
 "metadata": {
  "language_info": {
   "name": "python"
  },
  "orig_nbformat": 4
 },
 "nbformat": 4,
 "nbformat_minor": 2
}
